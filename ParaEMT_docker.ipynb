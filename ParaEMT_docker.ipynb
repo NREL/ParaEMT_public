{
 "cells": [
  {
   "cell_type": "markdown",
   "id": "d744b9be",
   "metadata": {},
   "source": [
    "EMT solver main function\n",
    "2020-2024 Bin Wang, Min Xiong, Deepthi Vaidhynathan, Jonathan Maack\n",
    "Last modified: 8/15/24\n",
    "\n",
    "This is the main function for running an EMT simulation case in Docker, \n",
    "which does not require setting up environment, and can run in a browser."
   ]
  },
  {
   "cell_type": "code",
   "execution_count": 8,
   "id": "372d7129",
   "metadata": {},
   "outputs": [],
   "source": [
    "import time\n",
    "import os\n",
    "import numpy as np\n",
    "from Lib_BW import *\n",
    "from psutils import *\n",
    "from preprocessscript import get_json_pkl\n",
    "import matplotlib.pyplot as plt\n",
    "import pandas as pd\n",
    "\n",
    "workingfolder = '.'\n",
    "os.chdir(workingfolder)"
   ]
  },
  {
   "cell_type": "markdown",
   "id": "50e1007a",
   "metadata": {},
   "source": [
    "Then, configure some of the simulation settings:"
   ]
  },
  {
   "cell_type": "code",
   "execution_count": 9,
   "id": "796000ae",
   "metadata": {},
   "outputs": [],
   "source": [
    "SimMod = 1  # 0 - Save a snapshot, 1 - run from a snapshot\n",
    "DSrate = 10 # down sampling rate, i.e. results saved every DSrate sim steps.\n",
    "systemN = 6 # 1: 2-gen, 2: 9-bus, 3: 39-bus, 4: 179-bus, 5: 240-bus, 6: 2-area\n",
    "ts = 50e-6  # time step, second\n",
    "Tlen = 10  # total simulation time length, second\n",
    "\n",
    "N_row = 1  # haven't tested the mxn layout, so plz don't set N_row/N_col to other nums.\n",
    "N_col = 1\n",
    "t_release_f = 0.0\n",
    "loadmodel_option = 1  # 1-const rlc, 2-const z\n",
    "netMod = 'lu'\n",
    "nparts = 2 # number of blocks in BBD form"
   ]
  },
  {
   "cell_type": "markdown",
   "id": "d0d4062a",
   "metadata": {},
   "source": [
    "Initialize EMT simulation:"
   ]
  },
  {
   "cell_type": "markdown",
   "id": "e9bbc5bc",
   "metadata": {},
   "source": [
    "Configure disturbance settings:"
   ]
  },
  {
   "cell_type": "code",
   "execution_count": 11,
   "id": "aa3ed319",
   "metadata": {},
   "outputs": [],
   "source": [
    "# ctrl step change\n",
    "emt.t_sc = 1\n",
    "emt.i_gen_sc = 0\n",
    "emt.flag_exc_gov = 1  # 0 - exc, 1 - gov\n",
    "emt.dsp = - 0.02\n",
    "emt.flag_sc = 1 # default, do not change\n",
    "\n",
    "# gen trip\n",
    "emt.t_gentrip = 200\n",
    "emt.i_gentrip = 1   # 0: 1032 C for WECC 240-bus\n",
    "emt.flag_gentrip = 1 \n",
    "emt.flag_reinit = 1"
   ]
  },
  {
   "cell_type": "markdown",
   "id": "27223759",
   "metadata": {},
   "source": [
    "Run time domain simulation:"
   ]
  },
  {
   "cell_type": "markdown",
   "id": "ee496263",
   "metadata": {},
   "source": [
    "Then, plot simulation results:\n",
    "\n",
    "Example 1: plot generator rotor angle and rotor frequency "
   ]
  },
  {
   "cell_type": "markdown",
   "id": "3e1f496c",
   "metadata": {},
   "source": [
    "Example 2: plot three phase voltage at Bus 1 and Bus 2"
   ]
  },
  {
   "cell_type": "markdown",
   "id": "c6dd77b7",
   "metadata": {},
   "source": [
    "Save simulation results as .pkl files"
   ]
  },
  {
   "cell_type": "code",
   "execution_count": 9,
   "id": "08245610",
   "metadata": {},
   "outputs": [],
   "source": [
    "emt.dump_res(pfd, dyd, ini, SimMod, output_snp_ful, output_snp_1pt, output_res)"
   ]
  },
  {
   "cell_type": "markdown",
   "id": "e7d5eb33",
   "metadata": {},
   "source": [
    "Finally, save simulation results as .csv files"
   ]
  },
  {
   "cell_type": "code",
   "execution_count": 10,
   "id": "9b4d61ec",
   "metadata": {},
   "outputs": [],
   "source": [
    "Vbus = []\n",
    "for j in range(3):  # Three phase\n",
    "    if j==0:\n",
    "        V_phase='Va'\n",
    "    if j==1:\n",
    "        V_phase='Vb'\n",
    "    if j==2:\n",
    "        V_phase='Vc'\n",
    "    for i in range(len(pfd.bus_num)):\n",
    "        Vbus.append(str(pfd.bus_num[i]) + '_' + pfd.bus_name[i] + '_' + V_phase)\n",
    "dfbus = pd.DataFrame(np.transpose(emt.v))\n",
    "dfbus.to_csv(\"emt_3phaseV.csv\", header=Vbus, index=False)\n",
    "\n",
    "Cbus = []\n",
    "for i in range(len(pfd.bus_num)):\n",
    "    Cbus.append(str(pfd.bus_num[i]) + '_' + pfd.bus_name[i] + '_' + 'ze')\n",
    "    Cbus.append(str(pfd.bus_num[i]) + '_' + pfd.bus_name[i] + '_' + 'de')\n",
    "    Cbus.append(str(pfd.bus_num[i]) + '_' + pfd.bus_name[i] + '_' + 'we')\n",
    "    Cbus.append(str(pfd.bus_num[i]) + '_' + pfd.bus_name[i] + '_' + 'vt')\n",
    "    Cbus.append(str(pfd.bus_num[i]) + '_' + pfd.bus_name[i] + '_' + 'vtm')\n",
    "    Cbus.append(str(pfd.bus_num[i]) + '_' + pfd.bus_name[i] + '_' + 'dvtm')\n",
    "\n",
    "if len(pfd.bus_num) > 0:\n",
    "    dfbus = pd.DataFrame(np.transpose(emt.x_bus))\n",
    "    dfbus.to_csv(\"emt_x_bus.csv\", header=Cbus, index=False)\n",
    "\n",
    "C = ['Time']\n",
    "for i in range(dyd.gen_genrou_n):\n",
    "    C.append(str(pfd.gen_bus[i]) + '_' + pfd.gen_id[i] + '_' + 'dt')\n",
    "    C.append(str(pfd.gen_bus[i]) + '_' + pfd.gen_id[i] + '_' + 'w')\n",
    "    C.append(str(pfd.gen_bus[i]) + '_' + pfd.gen_id[i] + '_' + 'id')\n",
    "    C.append(str(pfd.gen_bus[i]) + '_' + pfd.gen_id[i] + '_' + 'iq')\n",
    "    C.append(str(pfd.gen_bus[i]) + '_' + pfd.gen_id[i] + '_' + 'ifd')\n",
    "    C.append(str(pfd.gen_bus[i]) + '_' + pfd.gen_id[i] + '_' + 'i1d')\n",
    "    C.append(str(pfd.gen_bus[i]) + '_' + pfd.gen_id[i] + '_' + 'i1q')\n",
    "    C.append(str(pfd.gen_bus[i]) + '_' + pfd.gen_id[i] + '_' + 'i2q')\n",
    "    C.append(str(pfd.gen_bus[i]) + '_' + pfd.gen_id[i] + '_' + 'ed')\n",
    "    C.append(str(pfd.gen_bus[i]) + '_' + pfd.gen_id[i] + '_' + 'eq')\n",
    "    C.append(str(pfd.gen_bus[i]) + '_' + pfd.gen_id[i] + '_' + 'psyd')\n",
    "    C.append(str(pfd.gen_bus[i]) + '_' + pfd.gen_id[i] + '_' + 'psyq')\n",
    "    C.append(str(pfd.gen_bus[i]) + '_' + pfd.gen_id[i] + '_' + 'psyfd')\n",
    "    C.append(str(pfd.gen_bus[i]) + '_' + pfd.gen_id[i] + '_' + 'psy1q')\n",
    "    C.append(str(pfd.gen_bus[i]) + '_' + pfd.gen_id[i] + '_' + 'psy1d')\n",
    "    C.append(str(pfd.gen_bus[i]) + '_' + pfd.gen_id[i] + '_' + 'psy2q')\n",
    "    C.append(str(pfd.gen_bus[i]) + '_' + pfd.gen_id[i] + '_' + 'te')\n",
    "    C.append(str(pfd.gen_bus[i]) + '_' + pfd.gen_id[i] + '_' + 'qe')\n",
    "\n",
    "for i in range(dyd.exc_sexs_n):\n",
    "    C.append(str(pfd.gen_bus[i]) + '_' + pfd.gen_id[i] + '_SEXS_' + 'v1')\n",
    "    C.append(str(pfd.gen_bus[i]) + '_' + pfd.gen_id[i] + '_SEXS_' + 'EFD')\n",
    "\n",
    "for i in range(dyd.gov_tgov1_n):\n",
    "    j = int(dyd.gov_tgov1_idx[i])\n",
    "    C.append(str(pfd.gen_bus[j]) + '_' + pfd.gen_id[j] + '_TGOV1_' + 'P1')\n",
    "    C.append(str(pfd.gen_bus[j]) + '_' + pfd.gen_id[j] + '_TGOV1_' + 'P2')\n",
    "    C.append(str(pfd.gen_bus[j]) + '_' + pfd.gen_id[j] + '_TGOV1_' + 'Pm')\n",
    "\n",
    "for i in range(dyd.gov_hygov_n):\n",
    "    j = int(dyd.gov_hygov_idx[i])\n",
    "    C.append(str(pfd.gen_bus[j]) + '_' + pfd.gen_id[j] + '_HYGOV_' + 'xe')\n",
    "    C.append(str(pfd.gen_bus[j]) + '_' + pfd.gen_id[j] + '_HYGOV_' + 'xc')\n",
    "    C.append(str(pfd.gen_bus[j]) + '_' + pfd.gen_id[j] + '_HYGOV_' + 'xg')\n",
    "    C.append(str(pfd.gen_bus[j]) + '_' + pfd.gen_id[j] + '_HYGOV_' + 'xq')\n",
    "    C.append(str(pfd.gen_bus[j]) + '_' + pfd.gen_id[j] + '_HYGOV_' + 'Pm')\n",
    "\n",
    "for i in range(dyd.gov_gast_n):\n",
    "    j = int(dyd.gov_gast_idx[i])\n",
    "    C.append(str(pfd.gen_bus[j]) + '_' + pfd.gen_id[j] + '_GAST_' + 'P1')\n",
    "    C.append(str(pfd.gen_bus[j]) + '_' + pfd.gen_id[j] + '_GAST_' + 'P2')\n",
    "    C.append(str(pfd.gen_bus[j]) + '_' + pfd.gen_id[j] + '_GAST_' + 'P3')\n",
    "    C.append(str(pfd.gen_bus[j]) + '_' + pfd.gen_id[j] + '_GAST_' + 'Pm')\n",
    "\n",
    "for i in range(dyd.pss_ieeest_n):\n",
    "    j = int(dyd.pss_ieeest_idx[i])\n",
    "    C.append(str(pfd.gen_bus[j]) + '_' + pfd.gen_id[j] + '_IEEEST_' + 'y1')\n",
    "    C.append(str(pfd.gen_bus[j]) + '_' + pfd.gen_id[j] + '_IEEEST_' + 'y2')\n",
    "    C.append(str(pfd.gen_bus[j]) + '_' + pfd.gen_id[j] + '_IEEEST_' + 'y3')\n",
    "    C.append(str(pfd.gen_bus[j]) + '_' + pfd.gen_id[j] + '_IEEEST_' + 'y4')\n",
    "    C.append(str(pfd.gen_bus[j]) + '_' + pfd.gen_id[j] + '_IEEEST_' + 'y5')\n",
    "    C.append(str(pfd.gen_bus[j]) + '_' + pfd.gen_id[j] + '_IEEEST_' + 'y6')\n",
    "    C.append(str(pfd.gen_bus[j]) + '_' + pfd.gen_id[j] + '_IEEEST_' + 'y7')\n",
    "    C.append(str(pfd.gen_bus[j]) + '_' + pfd.gen_id[j] + '_IEEEST_' + 'x1')\n",
    "    C.append(str(pfd.gen_bus[j]) + '_' + pfd.gen_id[j] + '_IEEEST_' + 'x2')\n",
    "    C.append(str(pfd.gen_bus[j]) + '_' + pfd.gen_id[j] + '_IEEEST_' + 'vs')\n",
    "\n",
    "Cibr = []\n",
    "for i in range(dyd.ibr_n):\n",
    "    Cibr.append(str(pfd.ibr_bus[i]) + '_' + pfd.ibr_id[i] + '_regca_' + 's0')\n",
    "    Cibr.append(str(pfd.ibr_bus[i]) + '_' + pfd.ibr_id[i] + '_regca_' + 's1')\n",
    "    Cibr.append(str(pfd.ibr_bus[i]) + '_' + pfd.ibr_id[i] + '_regca_' + 's2')\n",
    "    Cibr.append(str(pfd.ibr_bus[i]) + '_' + pfd.ibr_id[i] + '_regca_' + 'Vmp')\n",
    "    Cibr.append(str(pfd.ibr_bus[i]) + '_' + pfd.ibr_id[i] + '_regca_' + 'Vap')\n",
    "    Cibr.append(str(pfd.ibr_bus[i]) + '_' + pfd.ibr_id[i] + '_regca_' + 'i1')\n",
    "    Cibr.append(str(pfd.ibr_bus[i]) + '_' + pfd.ibr_id[i] + '_regca_' + 'i2')\n",
    "    Cibr.append(str(pfd.ibr_bus[i]) + '_' + pfd.ibr_id[i] + '_regca_' + 'ip2rr')\n",
    "    Cibr.append(str(pfd.ibr_bus[i]) + '_' + pfd.ibr_id[i] + '_reecb_' + 's0')\n",
    "    Cibr.append(str(pfd.ibr_bus[i]) + '_' + pfd.ibr_id[i] + '_reecb_' + 's1')\n",
    "    Cibr.append(str(pfd.ibr_bus[i]) + '_' + pfd.ibr_id[i] + '_reecb_' + 's2')\n",
    "    Cibr.append(str(pfd.ibr_bus[i]) + '_' + pfd.ibr_id[i] + '_reecb_' + 's3')\n",
    "    Cibr.append(str(pfd.ibr_bus[i]) + '_' + pfd.ibr_id[i] + '_reecb_' + 's4')\n",
    "    Cibr.append(str(pfd.ibr_bus[i]) + '_' + pfd.ibr_id[i] + '_reecb_' + 's5')\n",
    "    Cibr.append(str(pfd.ibr_bus[i]) + '_' + pfd.ibr_id[i] + '_reecb_' + 'Ipcmd')\n",
    "    Cibr.append(str(pfd.ibr_bus[i]) + '_' + pfd.ibr_id[i] + '_reecb_' + 'Iqcmd')\n",
    "    Cibr.append(str(pfd.ibr_bus[i]) + '_' + pfd.ibr_id[i] + '_reecb_' + 'Pref')\n",
    "    Cibr.append(str(pfd.ibr_bus[i]) + '_' + pfd.ibr_id[i] + '_reecb_' + 'Qref')\n",
    "    Cibr.append(str(pfd.ibr_bus[i]) + '_' + pfd.ibr_id[i] + '_reecb_' + 'q2vPI')\n",
    "    Cibr.append(str(pfd.ibr_bus[i]) + '_' + pfd.ibr_id[i] + '_reecb_' + 'v2iPI')\n",
    "    Cibr.append(str(pfd.ibr_bus[i]) + '_' + pfd.ibr_id[i] + '_repca_' + 's0')\n",
    "    Cibr.append(str(pfd.ibr_bus[i]) + '_' + pfd.ibr_id[i] + '_repca_' + 's1')\n",
    "    Cibr.append(str(pfd.ibr_bus[i]) + '_' + pfd.ibr_id[i] + '_repca_' + 's2')\n",
    "    Cibr.append(str(pfd.ibr_bus[i]) + '_' + pfd.ibr_id[i] + '_repca_' + 's3')\n",
    "    Cibr.append(str(pfd.ibr_bus[i]) + '_' + pfd.ibr_id[i] + '_repca_' + 's4')\n",
    "    Cibr.append(str(pfd.ibr_bus[i]) + '_' + pfd.ibr_id[i] + '_repca_' + 's5')\n",
    "    Cibr.append(str(pfd.ibr_bus[i]) + '_' + pfd.ibr_id[i] + '_repca_' + 's6')\n",
    "    Cibr.append(str(pfd.ibr_bus[i]) + '_' + pfd.ibr_id[i] + '_repca_' + 'Vref')\n",
    "    Cibr.append(str(pfd.ibr_bus[i]) + '_' + pfd.ibr_id[i] + '_repca_' + 'Qref')\n",
    "    Cibr.append(str(pfd.ibr_bus[i]) + '_' + pfd.ibr_id[i] + '_repca_' + 'Freq_ref')\n",
    "    Cibr.append(str(pfd.ibr_bus[i]) + '_' + pfd.ibr_id[i] + '_repca_' + 'Plant_ref')\n",
    "    Cibr.append(str(pfd.ibr_bus[i]) + '_' + pfd.ibr_id[i] + '_repca_' + 'LineMW')\n",
    "    Cibr.append(str(pfd.ibr_bus[i]) + '_' + pfd.ibr_id[i] + '_repca_' + 'LineMvar')\n",
    "    Cibr.append(str(pfd.ibr_bus[i]) + '_' + pfd.ibr_id[i] + '_repca_' + 'LineMVA')\n",
    "    Cibr.append(str(pfd.ibr_bus[i]) + '_' + pfd.ibr_id[i] + '_repca_' + 'QVdbout')\n",
    "    Cibr.append(str(pfd.ibr_bus[i]) + '_' + pfd.ibr_id[i] + '_repca_' + 'fdbout')\n",
    "    Cibr.append(str(pfd.ibr_bus[i]) + '_' + pfd.ibr_id[i] + '_repca_' + 'vq2qPI')\n",
    "    Cibr.append(str(pfd.ibr_bus[i]) + '_' + pfd.ibr_id[i] + '_repca_' + 'p2pPI')\n",
    "    Cibr.append(str(pfd.ibr_bus[i]) + '_' + pfd.ibr_id[i] + '_repca_' + 'Vf')\n",
    "    Cibr.append(str(pfd.ibr_bus[i]) + '_' + pfd.ibr_id[i] + '_repca_' + 'Pe')\n",
    "    Cibr.append(str(pfd.ibr_bus[i]) + '_' + pfd.ibr_id[i] + '_repca_' + 'Qe')\n",
    "    \n",
    "t = emt.t.reshape(len(emt.t), 1)\n",
    "x = np.insert(np.transpose(emt.x), 0, np.transpose(t), axis = 1)\n",
    "df = pd.DataFrame(x)\n",
    "df.to_csv(\"emt_x.csv\", header = C, index = False)\n",
    "\n",
    "if len(pfd.ibr_bus)>0:\n",
    "    dfibr = pd.DataFrame(np.transpose(emt.x_ibr))\n",
    "    dfibr.to_csv(\"emt_xibr.csv\", header=Cibr, index=False)\n",
    "\n",
    "Cload = []\n",
    "for i in range(len(pfd.load_bus)):\n",
    "    Cload.append(str(pfd.load_bus[i]) + '_' + pfd.load_id[i] + '_' + 'ZL_mag')\n",
    "    Cload.append(str(pfd.load_bus[i]) + '_' + pfd.load_id[i] + '_' + 'ZL_ang')\n",
    "    Cload.append(str(pfd.load_bus[i]) + '_' + pfd.load_id[i] + '_' + 'PL')\n",
    "    Cload.append(str(pfd.load_bus[i]) + '_' + pfd.load_id[i] + '_' + 'QL')\n",
    "if len(pfd.load_bus)>0:\n",
    "    dfLd = pd.DataFrame(np.transpose(emt.x_load))\n",
    "    dfLd.to_csv(\"emt_x_load.csv\", header=Cload, index=False)"
   ]
  }
 ],
 "metadata": {
  "kernelspec": {
   "display_name": "Python 3 (ipykernel)",
   "language": "python",
   "name": "python3"
  },
  "language_info": {
   "codemirror_mode": {
    "name": "ipython",
    "version": 3
   },
   "file_extension": ".py",
   "mimetype": "text/x-python",
   "name": "python",
   "nbconvert_exporter": "python",
   "pygments_lexer": "ipython3",
   "version": "3.11.9"
  }
 },
 "nbformat": 4,
 "nbformat_minor": 5
}
